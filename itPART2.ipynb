{
 "cells": [
  {
   "cell_type": "code",
   "execution_count": null,
   "metadata": {},
   "outputs": [],
   "source": [
    "def file_p(file):\n",
    "     with open('C:/Users/Kamilla/.spyder-py3/'+file) as f:\n",
    "        str_text = f.read()\n",
    "        length = len(str_text)\n",
    "        prob = {}\n",
    "        for p in str_text:\n",
    "           if p in prob:\n",
    "               prob[p] += 1\n",
    "           else: \n",
    "               prob[p] = 1  \n",
    "    \n",
    "        for k in prob:\n",
    "           if k == ' ':\n",
    "               prob[k] = round(prob[k]/length, 3)\n",
    "              \n",
    "           elif k == '\\n':\n",
    "               prob[k] = round(prob[k]/length, 3)\n",
    "              \n",
    "           else:\n",
    "               prob[k] = round(prob[k]/length, 3)\n",
    "        sorted_str = dict(sorted(prob.items(), key=lambda x: x[1], reverse=True))\n",
    "        for j in sorted_str:\n",
    "            if j == ' ':\n",
    "                 print(\"'space'\" +\" - \"+ str(sorted_str[j]))\n",
    "            elif j == '\\n':\n",
    "                print(\"'newline'\" +\" - \"+ str(sorted_str[j]))\n",
    "            else:\n",
    "                print(\"'\"+j+\"'\" +\" - \"+ str(sorted_str[j]))"
   ]
  },
  {
   "cell_type": "code",
   "execution_count": null,
   "metadata": {},
   "outputs": [],
   "source": [
    "file_p('python.txt')"
   ]
  }
 ],
 "metadata": {
  "kernelspec": {
   "display_name": "Python 3",
   "language": "python",
   "name": "python3"
  },
  "language_info": {
   "codemirror_mode": {
    "name": "ipython",
    "version": 3
   },
   "file_extension": ".py",
   "mimetype": "text/x-python",
   "name": "python",
   "nbconvert_exporter": "python",
   "pygments_lexer": "ipython3",
   "version": "3.8.3"
  }
 },
 "nbformat": 4,
 "nbformat_minor": 4
}
