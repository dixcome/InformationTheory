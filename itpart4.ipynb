{
 "cells": [
  {
   "cell_type": "code",
   "execution_count": 1,
   "metadata": {},
   "outputs": [],
   "source": [
    "def file_p(file):\n",
    "     with open('C:/Users/Kamilla/.spyder-py3/'+file) as f:\n",
    "        str_text = f.read()\n",
    "        length = len(str_text)\n",
    "        prob = {}\n",
    "        for p in str_text:\n",
    "           if p in prob:\n",
    "               prob[p] += 1\n",
    "           else: \n",
    "               prob[p] = 1  \n",
    "    \n",
    "        for k in prob:\n",
    "           if k == ' ':\n",
    "               prob[k] = round(prob[k]/length, 3)\n",
    "              \n",
    "           elif k == '\\n':\n",
    "            \n",
    "               prob[k] = round(prob[k]/length, 3)\n",
    "              \n",
    "           else:\n",
    "               prob[k] = round(prob[k]/length, 3)\n",
    "        sorted_str = sorted(prob.items(), key=lambda x: x[1], reverse=True)\n",
    "        return sorted_str"
   ]
  },
  {
   "cell_type": "code",
   "execution_count": 2,
   "metadata": {},
   "outputs": [],
   "source": [
    "sorted_str = file_p('python.txt')"
   ]
  },
  {
   "cell_type": "code",
   "execution_count": 3,
   "metadata": {},
   "outputs": [
    {
     "name": "stdout",
     "output_type": "stream",
     "text": [
      "s-k 0.1\n",
      "b-s-k 0.15000000000000002\n",
      "i-m 0.2\n",
      " -n 0.2\n",
      "l-b-s-k 0.30000000000000004\n",
      " -n-i-m 0.4\n",
      "a-l-b-s-k 0.6000000000000001\n",
      " -n-i-m-a-l-b-s-k 1.0\n"
     ]
    }
   ],
   "source": [
    "class Tree(object):\n",
    "    \n",
    "\n",
    "\n",
    "    def __init__(self, left=None, right=None):\n",
    "        self.left = left\n",
    "        self.right = right\n",
    "        \n",
    "\n",
    "    def children(self):\n",
    "        return (self.left, self.right)\n",
    "\n",
    "    def nodes(self):\n",
    "        return (self.left, self.right)\n",
    "\n",
    "    def __str__(self):\n",
    "        return '%s-%s' % (self.left, self.right)\n",
    "\n",
    "\n",
    "# Main function implementing huffman coding\n",
    "def huffmanTree(node, left=True, code=''):\n",
    "    if type(node) is str:\n",
    "        return {node: code}\n",
    "    (left, right) = node.children()\n",
    "    d = dict()\n",
    "    d.update(huffmanTree(left, True, code + '0'))\n",
    "    d.update(huffmanTree(right, False, code+ '1'))\n",
    "    return d\n",
    "nodes = sorted_str\n",
    "for n in nodes:\n",
    "    if n == ' ':\n",
    "        n = 'space'\n",
    "    elif n == '\\n':\n",
    "        n = 'newline'\n",
    "#print(nodes)\n",
    "counter = 0\n",
    "while len(nodes) > 1:\n",
    "    (k1, val1) = nodes[-1]\n",
    "    (k2, val2) = nodes[-2]\n",
    "    nodes = nodes[:-2]\n",
    "    node = Tree(k1, k2)\n",
    "    nodes.append((node, val1 + val2))\n",
    "    nodes = sorted(nodes, key=lambda x: x[1], reverse=True)\n",
    "    counter +=1\n",
    "    \n",
    "    #print('Step '+str(counter))\n",
    "    print(node,val1+val2)"
   ]
  },
  {
   "cell_type": "code",
   "execution_count": 4,
   "metadata": {},
   "outputs": [
    {
     "name": "stdout",
     "output_type": "stream",
     "text": [
      "'a'-0.3-10\n",
      "'l'-0.15-110\n",
      "'n'-0.1-001\n",
      "'space'-0.1-000\n",
      "'m'-0.1-011\n",
      "'i'-0.1-010\n",
      "'b'-0.05-1110\n",
      "'k'-0.05-11111\n",
      "'s'-0.05-11110\n"
     ]
    }
   ],
   "source": [
    "huffman = huffmanTree(nodes[0][0])\n",
    "for (i, p) in sorted_str:\n",
    "    if i == ' ':\n",
    "        print(\"'\"+'space'+\"'\"+'-'+str(p)+'-'+huffman[i])\n",
    "    elif i == '\\n':\n",
    "        print(\"'\"+'newline'+\"'\"+'-'+str(p)+'-'+huffman[i])\n",
    "    else:\n",
    "        print(\"'\"+i+\"'\"+'-'+str(p)+'-'+huffman[i])"
   ]
  },
  {
   "cell_type": "code",
   "execution_count": 5,
   "metadata": {},
   "outputs": [
    {
     "name": "stdout",
     "output_type": "stream",
     "text": [
      "kamilla islam amina\n"
     ]
    }
   ],
   "source": [
    "st ='11111100110101101101000001011110110100110001001101000110'\n",
    "decode = ''\n",
    "code=''\n",
    "for q in st:\n",
    "    code +=q\n",
    "    pos=0\n",
    "    for h in huffman:\n",
    "        if code == huffman[h]:\n",
    "            decode+=h\n",
    "            code = ''\n",
    "        pos+=1\n",
    "print(decode)"
   ]
  },
  {
   "cell_type": "code",
   "execution_count": null,
   "metadata": {},
   "outputs": [],
   "source": []
  }
 ],
 "metadata": {
  "kernelspec": {
   "display_name": "Python 3",
   "language": "python",
   "name": "python3"
  },
  "language_info": {
   "codemirror_mode": {
    "name": "ipython",
    "version": 3
   },
   "file_extension": ".py",
   "mimetype": "text/x-python",
   "name": "python",
   "nbconvert_exporter": "python",
   "pygments_lexer": "ipython3",
   "version": "3.8.3"
  }
 },
 "nbformat": 4,
 "nbformat_minor": 4
}
